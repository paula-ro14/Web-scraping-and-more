{
 "cells": [
  {
   "cell_type": "markdown",
   "id": "87e82f58-cca7-4b44-9a89-f001ae967a2a",
   "metadata": {},
   "source": [
    "Importing our Libraries"
   ]
  },
  {
   "cell_type": "code",
   "execution_count": 14,
   "id": "e1e07b68-f8d7-477d-87ac-a6572d7dc099",
   "metadata": {},
   "outputs": [
    {
     "name": "stdout",
     "output_type": "stream",
     "text": [
      "Requirement already satisfied: lat-lon-parser in /opt/anaconda3/lib/python3.12/site-packages (1.3.1)\n"
     ]
    }
   ],
   "source": [
    "import pandas as pd\n",
    "import requests\n",
    "from bs4 import BeautifulSoup\n",
    "!pip install lat-lon-parser\n",
    "from lat_lon_parser import parse\n"
   ]
  },
  {
   "cell_type": "markdown",
   "id": "7995cb92-b85e-49b0-ba86-94f84d900bf8",
   "metadata": {},
   "source": [
    "Enter your API key in order to run the weather API"
   ]
  },
  {
   "cell_type": "code",
   "execution_count": 19,
   "id": "fae375db-f18f-42cc-930f-e344f67a75d3",
   "metadata": {},
   "outputs": [],
   "source": [
    "API_key =(Enter API_KEY)"
   ]
  },
  {
   "cell_type": "code",
   "execution_count": 21,
   "id": "1af18c1e-8781-4438-add7-250a4eb105be",
   "metadata": {},
   "outputs": [],
   "source": [
    "#Here is our loop to run the weather for 5 days of forcasting for the following cities\n",
    "\n",
    "city = [\"Hamburg\", \"Munich\", \"San Francisco\", \"La Paz\"]\n",
    "date = \"today\"\n",
    "city_names = []\n",
    "temp_min = []\n",
    "temp_max = []\n",
    "feels_like = []\n",
    "day = []\n",
    "#countries = []\n",
    "#latitudes = []\n",
    "#longitudes = []\n",
    "#def weather_dataframe(cities):\n",
    "for cities in city:\n",
    "    url = f\"https://www.wikipedia.org/wiki/{cities}\"\n",
    "    response = requests.get(url)\n",
    "    city_soup = BeautifulSoup(response.content, 'html.parser')\n",
    "    city_country = city_soup.find(class_=\"infobox-data\").get_text()\n",
    "    city_latitude = city_soup.find(class_=\"latitude\").get_text()\n",
    "    city_longitude = city_soup.find(class_=\"longitude\").get_text()\n",
    "        # parse data other wise list is empty\n",
    "    city_latitude = parse(city_latitude)\n",
    "    city_longitude = parse(city_longitude)\n",
    "    wth_data= []\n",
    "    weather = requests.get(f\"https://api.openweathermap.org/data/2.5/forecast?lat={city_latitude}&lon={city_longitude}&appid={API_key}&units=metric\")\n",
    "    wth_json = weather.json()\n",
    "  \n",
    "    for i in range(len(wth_json[\"list\"])):\n",
    "        city_names.append(cities)  # this line needs to go!\n",
    "        temp_min.append(wth_json[\"list\"][i][\"main\"][\"temp_min\"])\n",
    "        temp_max.append(wth_json[\"list\"][i][\"main\"][\"temp_max\"])\n",
    "        feels_like.append(wth_json[\"list\"][i][\"main\"][\"feels_like\"])\n",
    "        day.append(wth_json[\"list\"][i][\"dt_txt\"])\n",
    "        # keep track of data per city\n",
    "        #indent in the loop!\n",
    "        wth_data= ({\"City_name\": city_names, # this needs to be the list of cities!\n",
    "                    \"Day\": day,\n",
    "                    \"Min_temp\": temp_min,\n",
    "                    \"Max_temp\": temp_max,\n",
    "                    \"Feels_like\" : feels_like,\n",
    "                    })\n",
    "        weather_df = pd.DataFrame(wth_data)"
   ]
  },
  {
   "cell_type": "code",
   "execution_count": 23,
   "id": "6216aee4-0f67-49d3-ae0a-b4e686e1bfdf",
   "metadata": {},
   "outputs": [
    {
     "data": {
      "text/html": [
       "<div>\n",
       "<style scoped>\n",
       "    .dataframe tbody tr th:only-of-type {\n",
       "        vertical-align: middle;\n",
       "    }\n",
       "\n",
       "    .dataframe tbody tr th {\n",
       "        vertical-align: top;\n",
       "    }\n",
       "\n",
       "    .dataframe thead th {\n",
       "        text-align: right;\n",
       "    }\n",
       "</style>\n",
       "<table border=\"1\" class=\"dataframe\">\n",
       "  <thead>\n",
       "    <tr style=\"text-align: right;\">\n",
       "      <th></th>\n",
       "      <th>City_name</th>\n",
       "      <th>Day</th>\n",
       "      <th>Min_temp</th>\n",
       "      <th>Max_temp</th>\n",
       "      <th>Feels_like</th>\n",
       "    </tr>\n",
       "  </thead>\n",
       "  <tbody>\n",
       "    <tr>\n",
       "      <th>0</th>\n",
       "      <td>Hamburg</td>\n",
       "      <td>2024-12-09 09:00:00</td>\n",
       "      <td>4.81</td>\n",
       "      <td>5.83</td>\n",
       "      <td>1.22</td>\n",
       "    </tr>\n",
       "    <tr>\n",
       "      <th>1</th>\n",
       "      <td>Hamburg</td>\n",
       "      <td>2024-12-09 12:00:00</td>\n",
       "      <td>4.95</td>\n",
       "      <td>5.54</td>\n",
       "      <td>1.23</td>\n",
       "    </tr>\n",
       "    <tr>\n",
       "      <th>2</th>\n",
       "      <td>Hamburg</td>\n",
       "      <td>2024-12-09 15:00:00</td>\n",
       "      <td>5.34</td>\n",
       "      <td>5.50</td>\n",
       "      <td>1.24</td>\n",
       "    </tr>\n",
       "    <tr>\n",
       "      <th>3</th>\n",
       "      <td>Hamburg</td>\n",
       "      <td>2024-12-09 18:00:00</td>\n",
       "      <td>5.29</td>\n",
       "      <td>5.29</td>\n",
       "      <td>1.12</td>\n",
       "    </tr>\n",
       "    <tr>\n",
       "      <th>4</th>\n",
       "      <td>Hamburg</td>\n",
       "      <td>2024-12-09 21:00:00</td>\n",
       "      <td>5.18</td>\n",
       "      <td>5.18</td>\n",
       "      <td>1.08</td>\n",
       "    </tr>\n",
       "    <tr>\n",
       "      <th>...</th>\n",
       "      <td>...</td>\n",
       "      <td>...</td>\n",
       "      <td>...</td>\n",
       "      <td>...</td>\n",
       "      <td>...</td>\n",
       "    </tr>\n",
       "    <tr>\n",
       "      <th>155</th>\n",
       "      <td>La Paz</td>\n",
       "      <td>2024-12-13 18:00:00</td>\n",
       "      <td>11.05</td>\n",
       "      <td>11.05</td>\n",
       "      <td>9.93</td>\n",
       "    </tr>\n",
       "    <tr>\n",
       "      <th>156</th>\n",
       "      <td>La Paz</td>\n",
       "      <td>2024-12-13 21:00:00</td>\n",
       "      <td>6.10</td>\n",
       "      <td>6.10</td>\n",
       "      <td>2.96</td>\n",
       "    </tr>\n",
       "    <tr>\n",
       "      <th>157</th>\n",
       "      <td>La Paz</td>\n",
       "      <td>2024-12-14 00:00:00</td>\n",
       "      <td>6.73</td>\n",
       "      <td>6.73</td>\n",
       "      <td>4.95</td>\n",
       "    </tr>\n",
       "    <tr>\n",
       "      <th>158</th>\n",
       "      <td>La Paz</td>\n",
       "      <td>2024-12-14 03:00:00</td>\n",
       "      <td>6.69</td>\n",
       "      <td>6.69</td>\n",
       "      <td>5.13</td>\n",
       "    </tr>\n",
       "    <tr>\n",
       "      <th>159</th>\n",
       "      <td>La Paz</td>\n",
       "      <td>2024-12-14 06:00:00</td>\n",
       "      <td>6.27</td>\n",
       "      <td>6.27</td>\n",
       "      <td>5.04</td>\n",
       "    </tr>\n",
       "  </tbody>\n",
       "</table>\n",
       "<p>160 rows × 5 columns</p>\n",
       "</div>"
      ],
      "text/plain": [
       "    City_name                  Day  Min_temp  Max_temp  Feels_like\n",
       "0     Hamburg  2024-12-09 09:00:00      4.81      5.83        1.22\n",
       "1     Hamburg  2024-12-09 12:00:00      4.95      5.54        1.23\n",
       "2     Hamburg  2024-12-09 15:00:00      5.34      5.50        1.24\n",
       "3     Hamburg  2024-12-09 18:00:00      5.29      5.29        1.12\n",
       "4     Hamburg  2024-12-09 21:00:00      5.18      5.18        1.08\n",
       "..        ...                  ...       ...       ...         ...\n",
       "155    La Paz  2024-12-13 18:00:00     11.05     11.05        9.93\n",
       "156    La Paz  2024-12-13 21:00:00      6.10      6.10        2.96\n",
       "157    La Paz  2024-12-14 00:00:00      6.73      6.73        4.95\n",
       "158    La Paz  2024-12-14 03:00:00      6.69      6.69        5.13\n",
       "159    La Paz  2024-12-14 06:00:00      6.27      6.27        5.04\n",
       "\n",
       "[160 rows x 5 columns]"
      ]
     },
     "execution_count": 23,
     "metadata": {},
     "output_type": "execute_result"
    }
   ],
   "source": [
    "weather_df"
   ]
  },
  {
   "cell_type": "markdown",
   "id": "0bfce657-cf64-4c68-ad75-13f315baabda",
   "metadata": {},
   "source": [
    "Setting up the connection between Jupiter lab and MySQL"
   ]
  },
  {
   "cell_type": "code",
   "execution_count": 25,
   "id": "777a4bbe-394f-4590-8c19-88dfb242aa52",
   "metadata": {},
   "outputs": [],
   "source": [
    "schema = \"gans_local\" # The name of your database\n",
    "host = \"127.0.0.1\"\n",
    "user = \"root\"\n",
    "password = # USE Your MySQL password\n",
    "port = 3306\n",
    "\n",
    "connection_string = f'mysql+pymysql://{user}:{password}@{host}:{port}/{schema}'"
   ]
  },
  {
   "cell_type": "markdown",
   "id": "39f10e4c-2ff7-4f2f-a743-ab4947d610ac",
   "metadata": {},
   "source": [
    "Reading the cities table from MySQL to check the connection "
   ]
  },
  {
   "cell_type": "code",
   "execution_count": null,
   "id": "ab69ee0f-78fa-436d-a3b7-a4103826863c",
   "metadata": {},
   "outputs": [],
   "source": [
    "cities_from_sql = pd.read_sql(\"cities\", con=connection_string)\n",
    "cities_from_sql"
   ]
  },
  {
   "cell_type": "code",
   "execution_count": null,
   "id": "176fb3fb-6af5-40a8-b53e-eca14a670fed",
   "metadata": {},
   "outputs": [],
   "source": [
    "#send weather table to SQL\n",
    "weather_df.to_sql(\"weather_df\",\n",
    "                  if_exists=\"append\",\n",
    "                  con=connection_string,\n",
    "                  index=False)"
   ]
  },
  {
   "cell_type": "code",
   "execution_count": null,
   "id": "f2259d93-0400-42f9-9d4b-73e4d61816a7",
   "metadata": {},
   "outputs": [],
   "source": [
    "cities_from_sql"
   ]
  },
  {
   "cell_type": "markdown",
   "id": "3ad35f89-7b2c-41b7-bd9d-089d922e69a7",
   "metadata": {},
   "source": [
    "Getting the our tables from Jupiter lab and MySQL to match"
   ]
  },
  {
   "cell_type": "code",
   "execution_count": null,
   "id": "90111e44-cfc2-4aa1-854c-20bedc9130fa",
   "metadata": {},
   "outputs": [],
   "source": [
    "#df = df.drop('column_name', axis=1)\n",
    "weather_df3= weather2_df.drop({\"City_id_x\", \"Country\"} ,axis=1)\n",
    "weather_df3"
   ]
  },
  {
   "cell_type": "code",
   "execution_count": null,
   "id": "bb538854-be6d-4f35-bb31-aba9db3557b0",
   "metadata": {},
   "outputs": [],
   "source": [
    "#df.rename(columns={'oldName1': 'newName1'\n",
    "weather_df= weather_df3.rename(columns = {\"City_id_y\" : \"City_id\"})\n",
    "weather_df\n"
   ]
  },
  {
   "cell_type": "code",
   "execution_count": null,
   "id": "3a47b8f6-4db0-4b9f-8407-44b97411312e",
   "metadata": {},
   "outputs": [],
   "source": [
    "weather_df.to_sql(\"weather_df\",\n",
    "                  if_exists=\"append\",\n",
    "                  con=connection_string,\n",
    "                  index=False)"
   ]
  }
 ],
 "metadata": {
  "kernelspec": {
   "display_name": "Python 3 (ipykernel)",
   "language": "python",
   "name": "python3"
  },
  "language_info": {
   "codemirror_mode": {
    "name": "ipython",
    "version": 3
   },
   "file_extension": ".py",
   "mimetype": "text/x-python",
   "name": "python",
   "nbconvert_exporter": "python",
   "pygments_lexer": "ipython3",
   "version": "3.12.7"
  }
 },
 "nbformat": 4,
 "nbformat_minor": 5
}
