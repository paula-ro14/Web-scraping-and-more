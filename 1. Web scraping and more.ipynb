{
 "cells": [
  {
   "cell_type": "markdown",
   "metadata": {
    "id": "igRPG0S3mpVn"
   },
   "source": [
    "#### 1st let's import our Libraries"
   ]
  },
  {
   "cell_type": "code",
   "execution_count": 6,
   "metadata": {
    "id": "tgBEvat3mfEg"
   },
   "outputs": [],
   "source": [
    "import pandas as pd\n",
    "import requests\n",
    "from bs4 import BeautifulSoup"
   ]
  },
  {
   "cell_type": "code",
   "execution_count": 7,
   "metadata": {
    "colab": {
     "base_uri": "https://localhost:8080/"
    },
    "id": "HfrnJP5apCvw",
    "outputId": "8e42f4f3-32ea-4779-d2ef-1abf29bca347"
   },
   "outputs": [
    {
     "name": "stdout",
     "output_type": "stream",
     "text": [
      "Requirement already satisfied: lat-lon-parser in /opt/anaconda3/lib/python3.12/site-packages (1.3.1)\n"
     ]
    }
   ],
   "source": [
    "!pip install lat-lon-parser\n",
    "from lat_lon_parser import parse"
   ]
  },
  {
   "cell_type": "markdown",
   "metadata": {
    "id": "y5NM1tyom27w"
   },
   "source": [
    "### now let's get the cities of interest!\n",
    "- Hamburg\n",
    "- Munich\n",
    "- San Francisco\n",
    "- La Paz- Bolivia"
   ]
  },
  {
   "cell_type": "code",
   "execution_count": 9,
   "metadata": {
    "colab": {
     "base_uri": "https://localhost:8080/"
    },
    "id": "K9mzhmqrm604",
    "outputId": "6486236c-5133-445f-efdf-6a9c465c332f"
   },
   "outputs": [
    {
     "data": {
      "text/plain": [
       "('Germany', '53°33′N', '10°00′E')"
      ]
     },
     "execution_count": 9,
     "metadata": {},
     "output_type": "execute_result"
    }
   ],
   "source": [
    "url = 'https://www.wikipedia.org/wiki/Hamburg'\n",
    "response = requests.get(url)\n",
    "hamburg_soup = BeautifulSoup(response.content, 'html.parser')\n",
    "\n",
    "hamburg_country = hamburg_soup.find(class_=\"infobox-data\").get_text()\n",
    "hamburg_latitude = hamburg_soup.find(class_=\"latitude\").get_text()\n",
    "hamburg_longitude = hamburg_soup.find(class_=\"longitude\").get_text()\n",
    "\n",
    "hamburg_country, hamburg_latitude, hamburg_longitude"
   ]
  },
  {
   "cell_type": "markdown",
   "metadata": {
    "id": "_2JU5IqWnIlT"
   },
   "source": [
    "### Creating a loop to get the cities!"
   ]
  },
  {
   "cell_type": "code",
   "execution_count": 11,
   "metadata": {
    "id": "WdX8_yoVmupI"
   },
   "outputs": [],
   "source": [
    "cities = [ \"Hamburg\", \"Munich\", \"San Francisco\", \"La Paz\"]\n",
    "\n",
    "countries = []\n",
    "latitudes = []\n",
    "longitudes = []\n",
    "\n",
    "for city in cities:\n",
    "  # get the soup for the city\n",
    "  url = f\"https://www.wikipedia.org/wiki/{city}\"\n",
    "  response = requests.get(url)\n",
    "  city_soup = BeautifulSoup(response.content, 'html.parser')\n",
    "\n",
    "  # extract the data\n",
    "  city_country = city_soup.find(class_=\"infobox-data\").get_text()\n",
    "  city_latitude = city_soup.find(class_=\"latitude\").get_text()\n",
    "  city_longitude = city_soup.find(class_=\"longitude\").get_text()\n",
    "\n",
    "  # append data to a list\n",
    "  countries.append(city_country)\n",
    "  latitudes.append(city_latitude)\n",
    "  longitudes.append(city_longitude)"
   ]
  },
  {
   "cell_type": "markdown",
   "metadata": {
    "id": "irN0amPEncfy"
   },
   "source": [
    "### checking what we got"
   ]
  },
  {
   "cell_type": "code",
   "execution_count": 13,
   "metadata": {
    "colab": {
     "base_uri": "https://localhost:8080/"
    },
    "id": "Gxw1mWS8neZ1",
    "outputId": "83449f7c-73b4-4f3b-d1fb-8b77305ae821"
   },
   "outputs": [
    {
     "name": "stdout",
     "output_type": "stream",
     "text": [
      "The cities are in the following countries: ['Germany', 'Germany', '\\xa0United States', 'Bolivia']\n",
      "The cities have the following latitudes: ['53°33′N', '48°08′15″N', '37°46′39″N', '16°29′45″S']\n",
      "The cities have the following longitudes: ['10°00′E', '11°34′30″E', '122°24′59″W', '68°08′00″W']\n"
     ]
    }
   ],
   "source": [
    "print(f\"The cities are in the following countries: {countries}\")\n",
    "print(f\"The cities have the following latitudes: {latitudes}\")\n",
    "print(f\"The cities have the following longitudes: {longitudes}\")"
   ]
  },
  {
   "cell_type": "markdown",
   "metadata": {
    "id": "yuaihDLfoJVh"
   },
   "source": [
    "### we need a table for the cities\n"
   ]
  },
  {
   "cell_type": "code",
   "execution_count": 15,
   "metadata": {
    "colab": {
     "base_uri": "https://localhost:8080/",
     "height": 175
    },
    "id": "oX04nfmjoMw1",
    "outputId": "c54cfd63-f9da-4e28-8270-c7609a6a790b"
   },
   "outputs": [
    {
     "data": {
      "text/html": [
       "<div>\n",
       "<style scoped>\n",
       "    .dataframe tbody tr th:only-of-type {\n",
       "        vertical-align: middle;\n",
       "    }\n",
       "\n",
       "    .dataframe tbody tr th {\n",
       "        vertical-align: top;\n",
       "    }\n",
       "\n",
       "    .dataframe thead th {\n",
       "        text-align: right;\n",
       "    }\n",
       "</style>\n",
       "<table border=\"1\" class=\"dataframe\">\n",
       "  <thead>\n",
       "    <tr style=\"text-align: right;\">\n",
       "      <th></th>\n",
       "      <th>City_name</th>\n",
       "      <th>Country</th>\n",
       "      <th>Latitude</th>\n",
       "      <th>Longitude</th>\n",
       "    </tr>\n",
       "  </thead>\n",
       "  <tbody>\n",
       "    <tr>\n",
       "      <th>0</th>\n",
       "      <td>Hamburg</td>\n",
       "      <td>Germany</td>\n",
       "      <td>53°33′N</td>\n",
       "      <td>10°00′E</td>\n",
       "    </tr>\n",
       "    <tr>\n",
       "      <th>1</th>\n",
       "      <td>Munich</td>\n",
       "      <td>Germany</td>\n",
       "      <td>48°08′15″N</td>\n",
       "      <td>11°34′30″E</td>\n",
       "    </tr>\n",
       "    <tr>\n",
       "      <th>2</th>\n",
       "      <td>San Francisco</td>\n",
       "      <td>United States</td>\n",
       "      <td>37°46′39″N</td>\n",
       "      <td>122°24′59″W</td>\n",
       "    </tr>\n",
       "    <tr>\n",
       "      <th>3</th>\n",
       "      <td>La Paz</td>\n",
       "      <td>Bolivia</td>\n",
       "      <td>16°29′45″S</td>\n",
       "      <td>68°08′00″W</td>\n",
       "    </tr>\n",
       "  </tbody>\n",
       "</table>\n",
       "</div>"
      ],
      "text/plain": [
       "       City_name         Country    Latitude    Longitude\n",
       "0        Hamburg         Germany     53°33′N      10°00′E\n",
       "1         Munich         Germany  48°08′15″N   11°34′30″E\n",
       "2  San Francisco   United States  37°46′39″N  122°24′59″W\n",
       "3         La Paz         Bolivia  16°29′45″S   68°08′00″W"
      ]
     },
     "execution_count": 15,
     "metadata": {},
     "output_type": "execute_result"
    }
   ],
   "source": [
    "cities_df = pd.DataFrame({\"City_name\": cities,\n",
    "                          \"Country\": countries,\n",
    "                          \"Latitude\": latitudes,\n",
    "                          \"Longitude\": longitudes})\n",
    "\n",
    "cities_df"
   ]
  },
  {
   "cell_type": "markdown",
   "metadata": {
    "id": "HrmOCDonpdck"
   },
   "source": [
    "### in order to add more cities in the future we should make our loop into a function and add the list we have to one!"
   ]
  },
  {
   "cell_type": "code",
   "execution_count": 17,
   "metadata": {
    "colab": {
     "base_uri": "https://localhost:8080/",
     "height": 175
    },
    "id": "yHH7fuFJr-bA",
    "outputId": "b3686a45-c63d-4ef5-dec0-eceb0ce15883"
   },
   "outputs": [
    {
     "data": {
      "text/html": [
       "<div>\n",
       "<style scoped>\n",
       "    .dataframe tbody tr th:only-of-type {\n",
       "        vertical-align: middle;\n",
       "    }\n",
       "\n",
       "    .dataframe tbody tr th {\n",
       "        vertical-align: top;\n",
       "    }\n",
       "\n",
       "    .dataframe thead th {\n",
       "        text-align: right;\n",
       "    }\n",
       "</style>\n",
       "<table border=\"1\" class=\"dataframe\">\n",
       "  <thead>\n",
       "    <tr style=\"text-align: right;\">\n",
       "      <th></th>\n",
       "      <th>City_name</th>\n",
       "      <th>Country</th>\n",
       "      <th>Latitude</th>\n",
       "      <th>Longitude</th>\n",
       "    </tr>\n",
       "  </thead>\n",
       "  <tbody>\n",
       "    <tr>\n",
       "      <th>0</th>\n",
       "      <td>Hamburg</td>\n",
       "      <td>Germany</td>\n",
       "      <td>53°33′N</td>\n",
       "      <td>10°00′E</td>\n",
       "    </tr>\n",
       "    <tr>\n",
       "      <th>1</th>\n",
       "      <td>Munich</td>\n",
       "      <td>Germany</td>\n",
       "      <td>48°08′15″N</td>\n",
       "      <td>11°34′30″E</td>\n",
       "    </tr>\n",
       "    <tr>\n",
       "      <th>2</th>\n",
       "      <td>San Francisco</td>\n",
       "      <td>United States</td>\n",
       "      <td>37°46′39″N</td>\n",
       "      <td>122°24′59″W</td>\n",
       "    </tr>\n",
       "    <tr>\n",
       "      <th>3</th>\n",
       "      <td>La Paz</td>\n",
       "      <td>Bolivia</td>\n",
       "      <td>16°29′45″S</td>\n",
       "      <td>68°08′00″W</td>\n",
       "    </tr>\n",
       "  </tbody>\n",
       "</table>\n",
       "</div>"
      ],
      "text/plain": [
       "       City_name         Country    Latitude    Longitude\n",
       "0        Hamburg         Germany     53°33′N      10°00′E\n",
       "1         Munich         Germany  48°08′15″N   11°34′30″E\n",
       "2  San Francisco   United States  37°46′39″N  122°24′59″W\n",
       "3         La Paz         Bolivia  16°29′45″S   68°08′00″W"
      ]
     },
     "execution_count": 17,
     "metadata": {},
     "output_type": "execute_result"
    }
   ],
   "source": [
    "cities = [\"Hamburg\", \"Munich\", \"San Francisco\", \"La Paz\"]\n",
    "\n",
    "# create one single list to keep track of all values (instead of having separate lists)\n",
    "city_data = []\n",
    "\n",
    "for city in cities:\n",
    "    url = f\"https://www.wikipedia.org/wiki/{city}\"\n",
    "    response = requests.get(url)\n",
    "    city_soup = BeautifulSoup(response.content, 'html.parser')\n",
    "\n",
    "    # extract the relevant information\n",
    "    country = city_soup.find(class_=\"infobox-data\").get_text()\n",
    "    city_latitude = city_soup.find(class_=\"latitude\").get_text()\n",
    "    city_longitude = city_soup.find(class_=\"longitude\").get_text()\n",
    "\n",
    "    # for each city we append a dictionary of values to the list\n",
    "    city_data.append({\"City_name\": city,\n",
    "                     \"Country\": country,\n",
    "                     \"Latitude\": city_latitude,\n",
    "                     \"Longitude\": city_longitude\n",
    "                    })\n",
    "\n",
    "cities_df = pd.DataFrame(city_data)\n",
    "cities_df\n"
   ]
  },
  {
   "cell_type": "markdown",
   "metadata": {
    "id": "m07-Nh31sZVG"
   },
   "source": [
    "changind latitude data type for the future"
   ]
  },
  {
   "cell_type": "code",
   "execution_count": 19,
   "metadata": {
    "colab": {
     "base_uri": "https://localhost:8080/"
    },
    "id": "KE_iMX9gsc4A",
    "outputId": "b54197db-528c-4081-bd98-0d874789fce3"
   },
   "outputs": [
    {
     "data": {
      "text/plain": [
       "53.55"
      ]
     },
     "execution_count": 19,
     "metadata": {},
     "output_type": "execute_result"
    }
   ],
   "source": [
    "parse(hamburg_latitude)"
   ]
  },
  {
   "cell_type": "markdown",
   "metadata": {
    "id": "bGS5FRARs1OD"
   },
   "source": [
    "## ok now loop to function!"
   ]
  },
  {
   "cell_type": "code",
   "execution_count": 21,
   "metadata": {
    "id": "A403jcxls6Ya"
   },
   "outputs": [],
   "source": [
    "\n",
    "def cities_dataframe(cities):\n",
    "\n",
    "  city_data = []\n",
    "\n",
    "  for city in cities:\n",
    "    url = f\"https://www.wikipedia.org/wiki/{city}\"\n",
    "    response = requests.get(url)\n",
    "    city_soup = BeautifulSoup(response.content, 'html.parser')\n",
    "\n",
    "    # extract the relevant information\n",
    "    city_latitude = city_soup.find(class_=\"latitude\").get_text()\n",
    "    city_longitude = city_soup.find(class_=\"longitude\").get_text()\n",
    "    country = city_soup.find(class_=\"infobox-data\").get_text()\n",
    "\n",
    "    # keep track of data per city\n",
    "    city_data.append({\"City_name\": city,\n",
    "                    \"Country\": country,\n",
    "                    \"Latitude\": parse(city_latitude), # latitude in decimal format\n",
    "                    \"Longitude\": parse(city_longitude), # longitude in decimal format\n",
    "                    })\n",
    "\n",
    "  return pd.DataFrame(city_data)\n"
   ]
  },
  {
   "cell_type": "markdown",
   "metadata": {
    "id": "y6v8s-ZxqUIK"
   },
   "source": [
    "### does it work?"
   ]
  },
  {
   "cell_type": "markdown",
   "metadata": {
    "id": "tFj88sr9xDPn"
   },
   "source": [
    "# cities_df"
   ]
  },
  {
   "cell_type": "code",
   "execution_count": 24,
   "metadata": {
    "colab": {
     "base_uri": "https://localhost:8080/",
     "height": 175
    },
    "id": "nx_T4o0aqS3P",
    "outputId": "6dadd490-439f-498c-a2b9-7c446b02c079"
   },
   "outputs": [
    {
     "data": {
      "text/html": [
       "<div>\n",
       "<style scoped>\n",
       "    .dataframe tbody tr th:only-of-type {\n",
       "        vertical-align: middle;\n",
       "    }\n",
       "\n",
       "    .dataframe tbody tr th {\n",
       "        vertical-align: top;\n",
       "    }\n",
       "\n",
       "    .dataframe thead th {\n",
       "        text-align: right;\n",
       "    }\n",
       "</style>\n",
       "<table border=\"1\" class=\"dataframe\">\n",
       "  <thead>\n",
       "    <tr style=\"text-align: right;\">\n",
       "      <th></th>\n",
       "      <th>City_name</th>\n",
       "      <th>Country</th>\n",
       "      <th>Latitude</th>\n",
       "      <th>Longitude</th>\n",
       "    </tr>\n",
       "  </thead>\n",
       "  <tbody>\n",
       "    <tr>\n",
       "      <th>0</th>\n",
       "      <td>Hamburg</td>\n",
       "      <td>Germany</td>\n",
       "      <td>53.550000</td>\n",
       "      <td>10.000000</td>\n",
       "    </tr>\n",
       "    <tr>\n",
       "      <th>1</th>\n",
       "      <td>Munich</td>\n",
       "      <td>Germany</td>\n",
       "      <td>48.137500</td>\n",
       "      <td>11.575000</td>\n",
       "    </tr>\n",
       "    <tr>\n",
       "      <th>2</th>\n",
       "      <td>San Francisco</td>\n",
       "      <td>United States</td>\n",
       "      <td>37.777500</td>\n",
       "      <td>-122.416389</td>\n",
       "    </tr>\n",
       "    <tr>\n",
       "      <th>3</th>\n",
       "      <td>La Paz</td>\n",
       "      <td>Bolivia</td>\n",
       "      <td>-16.495833</td>\n",
       "      <td>-68.133333</td>\n",
       "    </tr>\n",
       "  </tbody>\n",
       "</table>\n",
       "</div>"
      ],
      "text/plain": [
       "       City_name         Country   Latitude   Longitude\n",
       "0        Hamburg         Germany  53.550000   10.000000\n",
       "1         Munich         Germany  48.137500   11.575000\n",
       "2  San Francisco   United States  37.777500 -122.416389\n",
       "3         La Paz         Bolivia -16.495833  -68.133333"
      ]
     },
     "execution_count": 24,
     "metadata": {},
     "output_type": "execute_result"
    }
   ],
   "source": [
    "list_of_cities = [ \"Hamburg\", \"Munich\", \"San Francisco\", \"La Paz\"]\n",
    "\n",
    "cities_df = cities_dataframe(list_of_cities)\n",
    "cities_df"
   ]
  },
  {
   "cell_type": "markdown",
   "metadata": {
    "id": "VNjhf0IBuyxo"
   },
   "source": [
    "## Let's find the population now"
   ]
  },
  {
   "cell_type": "code",
   "execution_count": 26,
   "metadata": {
    "colab": {
     "base_uri": "https://localhost:8080/",
     "height": 35
    },
    "id": "RpRz1H3Nu29q",
    "outputId": "c1854868-0f17-41ef-ce12-b06c5e575e4a"
   },
   "outputs": [
    {
     "data": {
      "text/plain": [
       "'1,964,021'"
      ]
     },
     "execution_count": 26,
     "metadata": {},
     "output_type": "execute_result"
    }
   ],
   "source": [
    "hamburg_population = hamburg_soup.find(string=\"Population\").find_next(\"td\").get_text()\n",
    "hamburg_population"
   ]
  },
  {
   "cell_type": "code",
   "execution_count": 27,
   "metadata": {
    "id": "uwRjLHaGwBxq"
   },
   "outputs": [],
   "source": [
    "from datetime import datetime # to get today's date\n",
    "from datetime import datetime, timedelta\n",
    "from pytz import timezone"
   ]
  },
  {
   "cell_type": "code",
   "execution_count": 28,
   "metadata": {
    "colab": {
     "base_uri": "https://localhost:8080/",
     "height": 175
    },
    "id": "zSZc3EIxvC77",
    "outputId": "85823729-1eb9-419f-8165-1ca48e3cf612"
   },
   "outputs": [
    {
     "data": {
      "text/html": [
       "<div>\n",
       "<style scoped>\n",
       "    .dataframe tbody tr th:only-of-type {\n",
       "        vertical-align: middle;\n",
       "    }\n",
       "\n",
       "    .dataframe tbody tr th {\n",
       "        vertical-align: top;\n",
       "    }\n",
       "\n",
       "    .dataframe thead th {\n",
       "        text-align: right;\n",
       "    }\n",
       "</style>\n",
       "<table border=\"1\" class=\"dataframe\">\n",
       "  <thead>\n",
       "    <tr style=\"text-align: right;\">\n",
       "      <th></th>\n",
       "      <th>City</th>\n",
       "      <th>Population</th>\n",
       "      <th>Population_Timestamp</th>\n",
       "    </tr>\n",
       "  </thead>\n",
       "  <tbody>\n",
       "    <tr>\n",
       "      <th>0</th>\n",
       "      <td>Hamburg</td>\n",
       "      <td>1964021</td>\n",
       "      <td>2024-12-04</td>\n",
       "    </tr>\n",
       "    <tr>\n",
       "      <th>1</th>\n",
       "      <td>Munich</td>\n",
       "      <td>1510378</td>\n",
       "      <td>2024-12-04</td>\n",
       "    </tr>\n",
       "    <tr>\n",
       "      <th>2</th>\n",
       "      <td>San Francisco</td>\n",
       "      <td>873965</td>\n",
       "      <td>2024-12-04</td>\n",
       "    </tr>\n",
       "    <tr>\n",
       "      <th>3</th>\n",
       "      <td>La Paz</td>\n",
       "      <td>755732</td>\n",
       "      <td>2024-12-04</td>\n",
       "    </tr>\n",
       "  </tbody>\n",
       "</table>\n",
       "</div>"
      ],
      "text/plain": [
       "            City  Population Population_Timestamp\n",
       "0        Hamburg     1964021           2024-12-04\n",
       "1         Munich     1510378           2024-12-04\n",
       "2  San Francisco      873965           2024-12-04\n",
       "3         La Paz      755732           2024-12-04"
      ]
     },
     "execution_count": 28,
     "metadata": {},
     "output_type": "execute_result"
    }
   ],
   "source": [
    "date = datetime.now().date()\n",
    "cities = [\"Hamburg\", \"Munich\", \"San Francisco\", \"La Paz\"]\n",
    "\n",
    "# create one list for population\n",
    "population_data = []\n",
    "\n",
    "for city in cities:\n",
    "    url = f\"https://www.wikipedia.org/wiki/{city}\"\n",
    "    response = requests.get(url)\n",
    "    city_soup = BeautifulSoup(response.content, 'html.parser')\n",
    "\n",
    "     # extract the relevant information\n",
    "    city_population = city_soup.find(string=\"Population\").find_next(\"td\").get_text()\n",
    "    city_population_clean = city_population.replace(\",\", \"\")\n",
    "    today = datetime.today().strftime(\"%d.%m.%Y\")\n",
    "\n",
    "    # for each city we append a dictionary of values to the list\n",
    "    population_data.append({\"City\": city,\n",
    "                     \"Population\": int(city_population_clean),\n",
    "                     \"Population_Timestamp\": date\n",
    "                    })\n",
    "\n",
    "population_data = pd.DataFrame(population_data)\n",
    "population_data\n"
   ]
  },
  {
   "cell_type": "markdown",
   "metadata": {
    "id": "2rGkRt79wTbh"
   },
   "source": [
    "### turn the loop into a function\n",
    "\n",
    "import pandas as pd\n",
    "import requests\n",
    "from bs4 import BeautifulSoup\n",
    "from datetime import datetime # to get today's date"
   ]
  },
  {
   "cell_type": "code",
   "execution_count": 100,
   "metadata": {
    "id": "hN_QRdEVwXVk"
   },
   "outputs": [],
   "source": [
    "\n",
    "def populations_dataframe(cities):\n",
    "\n",
    "    population_data = []\n",
    "\n",
    "    for city in cities:\n",
    "        url = f\"https://www.wikipedia.org/wiki/{city}\"\n",
    "        response = requests.get(url)\n",
    "        city_soup = BeautifulSoup(response.content, 'html.parser')\n",
    "\n",
    "        # extract the relevant information\n",
    "        city_population = city_soup.find(string=\"Population\").find_next(\"td\").get_text()\n",
    "        city_population_clean = int(city_population.replace(\",\", \"\"))\n",
    "        today = datetime.today().strftime(\"%d.%m.%Y\")\n",
    "\n",
    "        # keep track of data per city\n",
    "        population_data.append({\"City_name\": city,\n",
    "                        \"Population\": city_population_clean,\n",
    "                        \"Year_Data_Retrieved\": date\n",
    "                        })\n",
    "\n",
    "    return pd.DataFrame(population_data)"
   ]
  },
  {
   "cell_type": "markdown",
   "metadata": {
    "id": "ekaq2_XAwp2W"
   },
   "source": [
    "Does it work?"
   ]
  },
  {
   "cell_type": "markdown",
   "metadata": {
    "id": "2PzE8qETw9S4"
   },
   "source": [
    "# population_df"
   ]
  },
  {
   "cell_type": "code",
   "execution_count": 102,
   "metadata": {
    "colab": {
     "base_uri": "https://localhost:8080/",
     "height": 175
    },
    "id": "UUWEKdN2wrPH",
    "outputId": "b805635b-d724-41d6-8cef-550be18a04f3"
   },
   "outputs": [
    {
     "data": {
      "text/html": [
       "<div>\n",
       "<style scoped>\n",
       "    .dataframe tbody tr th:only-of-type {\n",
       "        vertical-align: middle;\n",
       "    }\n",
       "\n",
       "    .dataframe tbody tr th {\n",
       "        vertical-align: top;\n",
       "    }\n",
       "\n",
       "    .dataframe thead th {\n",
       "        text-align: right;\n",
       "    }\n",
       "</style>\n",
       "<table border=\"1\" class=\"dataframe\">\n",
       "  <thead>\n",
       "    <tr style=\"text-align: right;\">\n",
       "      <th></th>\n",
       "      <th>City_name</th>\n",
       "      <th>Population</th>\n",
       "      <th>Year_Data_Retrieved</th>\n",
       "    </tr>\n",
       "  </thead>\n",
       "  <tbody>\n",
       "    <tr>\n",
       "      <th>0</th>\n",
       "      <td>Hamburg</td>\n",
       "      <td>1964021</td>\n",
       "      <td>2024-12-04</td>\n",
       "    </tr>\n",
       "    <tr>\n",
       "      <th>1</th>\n",
       "      <td>Munich</td>\n",
       "      <td>1510378</td>\n",
       "      <td>2024-12-04</td>\n",
       "    </tr>\n",
       "    <tr>\n",
       "      <th>2</th>\n",
       "      <td>San Francisco</td>\n",
       "      <td>873965</td>\n",
       "      <td>2024-12-04</td>\n",
       "    </tr>\n",
       "    <tr>\n",
       "      <th>3</th>\n",
       "      <td>La Paz</td>\n",
       "      <td>755732</td>\n",
       "      <td>2024-12-04</td>\n",
       "    </tr>\n",
       "  </tbody>\n",
       "</table>\n",
       "</div>"
      ],
      "text/plain": [
       "       City_name  Population Year_Data_Retrieved\n",
       "0        Hamburg     1964021          2024-12-04\n",
       "1         Munich     1510378          2024-12-04\n",
       "2  San Francisco      873965          2024-12-04\n",
       "3         La Paz      755732          2024-12-04"
      ]
     },
     "execution_count": 102,
     "metadata": {},
     "output_type": "execute_result"
    }
   ],
   "source": [
    "cities = [\"Hamburg\", \"Munich\", \"San Francisco\", \"La Paz\"]\n",
    "\n",
    "population_df = populations_dataframe(cities)\n",
    "population_df"
   ]
  },
  {
   "cell_type": "code",
   "execution_count": 34,
   "metadata": {
    "colab": {
     "base_uri": "https://localhost:8080/",
     "height": 35
    },
    "id": "c207i0tKz46T",
    "outputId": "cf82125d-091d-47f3-acbe-40b3dfe52057"
   },
   "outputs": [
    {
     "data": {
      "text/plain": [
       "'04.12.2024'"
      ]
     },
     "execution_count": 34,
     "metadata": {},
     "output_type": "execute_result"
    }
   ],
   "source": [
    "population_df['Year_Data_Retrieved'][1]"
   ]
  },
  {
   "cell_type": "markdown",
   "metadata": {
    "id": "yUg4gEr-teyF"
   },
   "source": [
    "## we have our CITIES DATA FRAME, now we can create sub tables from it to import them to SQL!!"
   ]
  },
  {
   "cell_type": "markdown",
   "metadata": {
    "id": "GTLWsupTxpN3"
   },
   "source": [
    "Cities table\n",
    "\n",
    "*   city_id\n",
    "*   city_name\n",
    "*   country_code\n",
    "\n",
    "\n",
    "---\n",
    "\n",
    "\n",
    "Population table\n",
    "\n",
    "*   city_id\n",
    "*   population\n",
    "*   timestamp_population\n"
   ]
  },
  {
   "cell_type": "code",
   "execution_count": 37,
   "metadata": {
    "colab": {
     "base_uri": "https://localhost:8080/",
     "height": 175
    },
    "id": "FZIWCoIRuUv2",
    "outputId": "a08dd077-8ac9-4040-c10c-32cce36ba40c"
   },
   "outputs": [
    {
     "data": {
      "text/html": [
       "<div>\n",
       "<style scoped>\n",
       "    .dataframe tbody tr th:only-of-type {\n",
       "        vertical-align: middle;\n",
       "    }\n",
       "\n",
       "    .dataframe tbody tr th {\n",
       "        vertical-align: top;\n",
       "    }\n",
       "\n",
       "    .dataframe thead th {\n",
       "        text-align: right;\n",
       "    }\n",
       "</style>\n",
       "<table border=\"1\" class=\"dataframe\">\n",
       "  <thead>\n",
       "    <tr style=\"text-align: right;\">\n",
       "      <th></th>\n",
       "      <th>City_name</th>\n",
       "      <th>Country</th>\n",
       "      <th>Latitude</th>\n",
       "      <th>Longitude</th>\n",
       "    </tr>\n",
       "  </thead>\n",
       "  <tbody>\n",
       "    <tr>\n",
       "      <th>0</th>\n",
       "      <td>Hamburg</td>\n",
       "      <td>Germany</td>\n",
       "      <td>53.550000</td>\n",
       "      <td>10.000000</td>\n",
       "    </tr>\n",
       "    <tr>\n",
       "      <th>1</th>\n",
       "      <td>Munich</td>\n",
       "      <td>Germany</td>\n",
       "      <td>48.137500</td>\n",
       "      <td>11.575000</td>\n",
       "    </tr>\n",
       "    <tr>\n",
       "      <th>2</th>\n",
       "      <td>San Francisco</td>\n",
       "      <td>United States</td>\n",
       "      <td>37.777500</td>\n",
       "      <td>-122.416389</td>\n",
       "    </tr>\n",
       "    <tr>\n",
       "      <th>3</th>\n",
       "      <td>La Paz</td>\n",
       "      <td>Bolivia</td>\n",
       "      <td>-16.495833</td>\n",
       "      <td>-68.133333</td>\n",
       "    </tr>\n",
       "  </tbody>\n",
       "</table>\n",
       "</div>"
      ],
      "text/plain": [
       "       City_name         Country   Latitude   Longitude\n",
       "0        Hamburg         Germany  53.550000   10.000000\n",
       "1         Munich         Germany  48.137500   11.575000\n",
       "2  San Francisco   United States  37.777500 -122.416389\n",
       "3         La Paz         Bolivia -16.495833  -68.133333"
      ]
     },
     "execution_count": 37,
     "metadata": {},
     "output_type": "execute_result"
    }
   ],
   "source": [
    "cities_df"
   ]
  },
  {
   "cell_type": "code",
   "execution_count": 38,
   "metadata": {},
   "outputs": [
    {
     "data": {
      "text/html": [
       "<div>\n",
       "<style scoped>\n",
       "    .dataframe tbody tr th:only-of-type {\n",
       "        vertical-align: middle;\n",
       "    }\n",
       "\n",
       "    .dataframe tbody tr th {\n",
       "        vertical-align: top;\n",
       "    }\n",
       "\n",
       "    .dataframe thead th {\n",
       "        text-align: right;\n",
       "    }\n",
       "</style>\n",
       "<table border=\"1\" class=\"dataframe\">\n",
       "  <thead>\n",
       "    <tr style=\"text-align: right;\">\n",
       "      <th></th>\n",
       "      <th>City_name</th>\n",
       "      <th>Country</th>\n",
       "    </tr>\n",
       "  </thead>\n",
       "  <tbody>\n",
       "    <tr>\n",
       "      <th>0</th>\n",
       "      <td>Hamburg</td>\n",
       "      <td>Germany</td>\n",
       "    </tr>\n",
       "    <tr>\n",
       "      <th>1</th>\n",
       "      <td>Munich</td>\n",
       "      <td>Germany</td>\n",
       "    </tr>\n",
       "    <tr>\n",
       "      <th>2</th>\n",
       "      <td>San Francisco</td>\n",
       "      <td>United States</td>\n",
       "    </tr>\n",
       "    <tr>\n",
       "      <th>3</th>\n",
       "      <td>La Paz</td>\n",
       "      <td>Bolivia</td>\n",
       "    </tr>\n",
       "  </tbody>\n",
       "</table>\n",
       "</div>"
      ],
      "text/plain": [
       "       City_name         Country\n",
       "0        Hamburg         Germany\n",
       "1         Munich         Germany\n",
       "2  San Francisco   United States\n",
       "3         La Paz         Bolivia"
      ]
     },
     "execution_count": 38,
     "metadata": {},
     "output_type": "execute_result"
    }
   ],
   "source": [
    "cities_to_db = cities_df[[\"City_name\", \"Country\"]]\n",
    "cities_to_db"
   ]
  },
  {
   "cell_type": "code",
   "execution_count": 39,
   "metadata": {},
   "outputs": [
    {
     "data": {
      "text/html": [
       "<div>\n",
       "<style scoped>\n",
       "    .dataframe tbody tr th:only-of-type {\n",
       "        vertical-align: middle;\n",
       "    }\n",
       "\n",
       "    .dataframe tbody tr th {\n",
       "        vertical-align: top;\n",
       "    }\n",
       "\n",
       "    .dataframe thead th {\n",
       "        text-align: right;\n",
       "    }\n",
       "</style>\n",
       "<table border=\"1\" class=\"dataframe\">\n",
       "  <thead>\n",
       "    <tr style=\"text-align: right;\">\n",
       "      <th></th>\n",
       "      <th>City_name</th>\n",
       "      <th>Population</th>\n",
       "      <th>Year_Data_Retrieved</th>\n",
       "    </tr>\n",
       "  </thead>\n",
       "  <tbody>\n",
       "    <tr>\n",
       "      <th>0</th>\n",
       "      <td>Hamburg</td>\n",
       "      <td>1964021</td>\n",
       "      <td>04.12.2024</td>\n",
       "    </tr>\n",
       "    <tr>\n",
       "      <th>1</th>\n",
       "      <td>Munich</td>\n",
       "      <td>1510378</td>\n",
       "      <td>04.12.2024</td>\n",
       "    </tr>\n",
       "    <tr>\n",
       "      <th>2</th>\n",
       "      <td>San Francisco</td>\n",
       "      <td>873965</td>\n",
       "      <td>04.12.2024</td>\n",
       "    </tr>\n",
       "    <tr>\n",
       "      <th>3</th>\n",
       "      <td>La Paz</td>\n",
       "      <td>755732</td>\n",
       "      <td>04.12.2024</td>\n",
       "    </tr>\n",
       "  </tbody>\n",
       "</table>\n",
       "</div>"
      ],
      "text/plain": [
       "       City_name  Population Year_Data_Retrieved\n",
       "0        Hamburg     1964021          04.12.2024\n",
       "1         Munich     1510378          04.12.2024\n",
       "2  San Francisco      873965          04.12.2024\n",
       "3         La Paz      755732          04.12.2024"
      ]
     },
     "execution_count": 39,
     "metadata": {},
     "output_type": "execute_result"
    }
   ],
   "source": [
    "population_df"
   ]
  },
  {
   "cell_type": "code",
   "execution_count": 40,
   "metadata": {},
   "outputs": [
    {
     "data": {
      "text/html": [
       "<div>\n",
       "<style scoped>\n",
       "    .dataframe tbody tr th:only-of-type {\n",
       "        vertical-align: middle;\n",
       "    }\n",
       "\n",
       "    .dataframe tbody tr th {\n",
       "        vertical-align: top;\n",
       "    }\n",
       "\n",
       "    .dataframe thead th {\n",
       "        text-align: right;\n",
       "    }\n",
       "</style>\n",
       "<table border=\"1\" class=\"dataframe\">\n",
       "  <thead>\n",
       "    <tr style=\"text-align: right;\">\n",
       "      <th></th>\n",
       "      <th>Population</th>\n",
       "      <th>Year_Data_Retrieved</th>\n",
       "    </tr>\n",
       "  </thead>\n",
       "  <tbody>\n",
       "    <tr>\n",
       "      <th>0</th>\n",
       "      <td>1964021</td>\n",
       "      <td>04.12.2024</td>\n",
       "    </tr>\n",
       "    <tr>\n",
       "      <th>1</th>\n",
       "      <td>1510378</td>\n",
       "      <td>04.12.2024</td>\n",
       "    </tr>\n",
       "    <tr>\n",
       "      <th>2</th>\n",
       "      <td>873965</td>\n",
       "      <td>04.12.2024</td>\n",
       "    </tr>\n",
       "    <tr>\n",
       "      <th>3</th>\n",
       "      <td>755732</td>\n",
       "      <td>04.12.2024</td>\n",
       "    </tr>\n",
       "  </tbody>\n",
       "</table>\n",
       "</div>"
      ],
      "text/plain": [
       "   Population Year_Data_Retrieved\n",
       "0     1964021          04.12.2024\n",
       "1     1510378          04.12.2024\n",
       "2      873965          04.12.2024\n",
       "3      755732          04.12.2024"
      ]
     },
     "execution_count": 40,
     "metadata": {},
     "output_type": "execute_result"
    }
   ],
   "source": [
    "population_to_db = population_df[[\"Population\", \"Year_Data_Retrieved\"]]\n",
    "population_to_db"
   ]
  },
  {
   "cell_type": "code",
   "execution_count": 41,
   "metadata": {
    "colab": {
     "base_uri": "https://localhost:8080/"
    },
    "id": "Zoli0Wopts2Z",
    "outputId": "2ec38248-da2d-4e6b-f89a-b9bba49aadee"
   },
   "outputs": [
    {
     "name": "stdout",
     "output_type": "stream",
     "text": [
      "Requirement already satisfied: sqlalchemy in /opt/anaconda3/lib/python3.12/site-packages (2.0.34)\n",
      "Requirement already satisfied: typing-extensions>=4.6.0 in /opt/anaconda3/lib/python3.12/site-packages (from sqlalchemy) (4.11.0)\n",
      "Requirement already satisfied: pymysql in /opt/anaconda3/lib/python3.12/site-packages (1.1.1)\n"
     ]
    }
   ],
   "source": [
    "# install if needed\n",
    "!pip install sqlalchemy\n",
    "!pip install pymysql"
   ]
  },
  {
   "cell_type": "markdown",
   "metadata": {
    "id": "1CBuZ76v539D"
   },
   "source": [
    "creating the tables in SQL"
   ]
  },
  {
   "cell_type": "markdown",
   "metadata": {
    "id": "AKnpNKJX59LS"
   },
   "source": [
    "USE sql_workshop;\n",
    "\n",
    "-- Create the 'authors' table\n",
    "\n",
    "CREATE TABLE cities2_df (\n",
    "    city_id INT AUTO_INCREMENT, -- Automatically generated ID for each author\n",
    "    city_name VARCHAR(100) NOT NULL, -- Name of the author\n",
    "    country_id VARCHAR(100) NOT NULL,\n",
    "    PRIMARY KEY (city_id) -- Primary key to uniquely identify each author\n",
    ");\n",
    "\n",
    "\n",
    "\n",
    "---\n",
    "\n",
    "\n",
    "\n",
    "-- Create the 'books' table\n",
    "\n",
    "\n",
    "CREATE TABLE population2_df (\n",
    "    city_id INT, -- Automatically generated ID for each book\n",
    "    population_id INT AUTO INCREMENT,\n",
    "    population INT, -- Title of the book\n",
    "    timestamp_population INT, -- Year the book was published\n",
    "    PRIMARY KEY (Population_id),\n",
    "    FOREIGN KEY (City_id) REFERENCES cities(City_id)\n",
    ");"
   ]
  },
  {
   "cell_type": "markdown",
   "metadata": {
    "id": "FIVmDAyI6DPG"
   },
   "source": [
    "Sending our tables to SQL"
   ]
  },
  {
   "cell_type": "code",
   "execution_count": 45,
   "metadata": {
    "id": "kQ4pt2X06hWJ"
   },
   "outputs": [],
   "source": [
    "schema = \"gans_local\" # The name of your database\n",
    "host = \"127.0.0.1\"\n",
    "user = \"root\"\n",
    "password = USE Your MySQL password\n",
    "port = 3306\n",
    "\n",
    "connection_string = f'mysql+pymysql://{user}:{password}@{host}:{port}/{schema}'"
   ]
  },
  {
   "cell_type": "code",
   "execution_count": 46,
   "metadata": {},
   "outputs": [
    {
     "data": {
      "text/html": [
       "<div>\n",
       "<style scoped>\n",
       "    .dataframe tbody tr th:only-of-type {\n",
       "        vertical-align: middle;\n",
       "    }\n",
       "\n",
       "    .dataframe tbody tr th {\n",
       "        vertical-align: top;\n",
       "    }\n",
       "\n",
       "    .dataframe thead th {\n",
       "        text-align: right;\n",
       "    }\n",
       "</style>\n",
       "<table border=\"1\" class=\"dataframe\">\n",
       "  <thead>\n",
       "    <tr style=\"text-align: right;\">\n",
       "      <th></th>\n",
       "      <th>City_name</th>\n",
       "      <th>Country</th>\n",
       "    </tr>\n",
       "  </thead>\n",
       "  <tbody>\n",
       "    <tr>\n",
       "      <th>0</th>\n",
       "      <td>Hamburg</td>\n",
       "      <td>Germany</td>\n",
       "    </tr>\n",
       "    <tr>\n",
       "      <th>1</th>\n",
       "      <td>Munich</td>\n",
       "      <td>Germany</td>\n",
       "    </tr>\n",
       "    <tr>\n",
       "      <th>2</th>\n",
       "      <td>San Francisco</td>\n",
       "      <td>United States</td>\n",
       "    </tr>\n",
       "    <tr>\n",
       "      <th>3</th>\n",
       "      <td>La Paz</td>\n",
       "      <td>Bolivia</td>\n",
       "    </tr>\n",
       "  </tbody>\n",
       "</table>\n",
       "</div>"
      ],
      "text/plain": [
       "       City_name         Country\n",
       "0        Hamburg         Germany\n",
       "1         Munich         Germany\n",
       "2  San Francisco   United States\n",
       "3         La Paz         Bolivia"
      ]
     },
     "execution_count": 46,
     "metadata": {},
     "output_type": "execute_result"
    }
   ],
   "source": [
    "cities_to_db"
   ]
  },
  {
   "cell_type": "markdown",
   "metadata": {
    "id": "SkCEOX5C6rOH"
   },
   "source": [
    "Now let's send it"
   ]
  },
  {
   "cell_type": "code",
   "execution_count": 48,
   "metadata": {
    "colab": {
     "base_uri": "https://localhost:8080/",
     "height": 347
    },
    "id": "rhdF_zL16tlo",
    "outputId": "7dc10c15-7fed-4fc5-db92-b8cbb962f1cf",
    "scrolled": true
   },
   "outputs": [
    {
     "data": {
      "text/plain": [
       "4"
      ]
     },
     "execution_count": 48,
     "metadata": {},
     "output_type": "execute_result"
    }
   ],
   "source": [
    "cities_to_db.to_sql(\"cities\",\n",
    "                  if_exists=\"append\",\n",
    "                  con=connection_string,\n",
    "                  index=False)"
   ]
  },
  {
   "cell_type": "code",
   "execution_count": 49,
   "metadata": {},
   "outputs": [],
   "source": [
    "#Read the \"cities\" table from the database into the notebook\n",
    "#This step is needed to fetch the \"city_id\" column and integrate \n",
    "#it into the \"population_to_db\" dataframe. The \"city_id\" column in \"population_to_db\" \n",
    "#dataframe will serve as a foreign key in order to establish a relation between both\n",
    "#\"cities\" & \"population\" tables"
   ]
  },
  {
   "cell_type": "code",
   "execution_count": 50,
   "metadata": {},
   "outputs": [
    {
     "data": {
      "text/html": [
       "<div>\n",
       "<style scoped>\n",
       "    .dataframe tbody tr th:only-of-type {\n",
       "        vertical-align: middle;\n",
       "    }\n",
       "\n",
       "    .dataframe tbody tr th {\n",
       "        vertical-align: top;\n",
       "    }\n",
       "\n",
       "    .dataframe thead th {\n",
       "        text-align: right;\n",
       "    }\n",
       "</style>\n",
       "<table border=\"1\" class=\"dataframe\">\n",
       "  <thead>\n",
       "    <tr style=\"text-align: right;\">\n",
       "      <th></th>\n",
       "      <th>City_id</th>\n",
       "      <th>City_name</th>\n",
       "      <th>Country</th>\n",
       "    </tr>\n",
       "  </thead>\n",
       "  <tbody>\n",
       "    <tr>\n",
       "      <th>0</th>\n",
       "      <td>1</td>\n",
       "      <td>Hamburg</td>\n",
       "      <td>Germany</td>\n",
       "    </tr>\n",
       "    <tr>\n",
       "      <th>1</th>\n",
       "      <td>2</td>\n",
       "      <td>Munich</td>\n",
       "      <td>Germany</td>\n",
       "    </tr>\n",
       "    <tr>\n",
       "      <th>2</th>\n",
       "      <td>3</td>\n",
       "      <td>San Francisco</td>\n",
       "      <td>United States</td>\n",
       "    </tr>\n",
       "    <tr>\n",
       "      <th>3</th>\n",
       "      <td>4</td>\n",
       "      <td>La Paz</td>\n",
       "      <td>Bolivia</td>\n",
       "    </tr>\n",
       "    <tr>\n",
       "      <th>4</th>\n",
       "      <td>5</td>\n",
       "      <td>Hamburg</td>\n",
       "      <td>Germany</td>\n",
       "    </tr>\n",
       "    <tr>\n",
       "      <th>5</th>\n",
       "      <td>6</td>\n",
       "      <td>Munich</td>\n",
       "      <td>Germany</td>\n",
       "    </tr>\n",
       "    <tr>\n",
       "      <th>6</th>\n",
       "      <td>7</td>\n",
       "      <td>San Francisco</td>\n",
       "      <td>United States</td>\n",
       "    </tr>\n",
       "    <tr>\n",
       "      <th>7</th>\n",
       "      <td>8</td>\n",
       "      <td>La Paz</td>\n",
       "      <td>Bolivia</td>\n",
       "    </tr>\n",
       "  </tbody>\n",
       "</table>\n",
       "</div>"
      ],
      "text/plain": [
       "   City_id      City_name         Country\n",
       "0        1        Hamburg         Germany\n",
       "1        2         Munich         Germany\n",
       "2        3  San Francisco   United States\n",
       "3        4         La Paz         Bolivia\n",
       "4        5        Hamburg         Germany\n",
       "5        6         Munich         Germany\n",
       "6        7  San Francisco   United States\n",
       "7        8         La Paz         Bolivia"
      ]
     },
     "execution_count": 50,
     "metadata": {},
     "output_type": "execute_result"
    }
   ],
   "source": [
    "cities_from_sql = pd.read_sql(\"cities\", con=connection_string)\n",
    "cities_from_sql"
   ]
  },
  {
   "cell_type": "code",
   "execution_count": 51,
   "metadata": {},
   "outputs": [
    {
     "data": {
      "text/html": [
       "<div>\n",
       "<style scoped>\n",
       "    .dataframe tbody tr th:only-of-type {\n",
       "        vertical-align: middle;\n",
       "    }\n",
       "\n",
       "    .dataframe tbody tr th {\n",
       "        vertical-align: top;\n",
       "    }\n",
       "\n",
       "    .dataframe thead th {\n",
       "        text-align: right;\n",
       "    }\n",
       "</style>\n",
       "<table border=\"1\" class=\"dataframe\">\n",
       "  <thead>\n",
       "    <tr style=\"text-align: right;\">\n",
       "      <th></th>\n",
       "      <th>Population</th>\n",
       "      <th>Year_Data_Retrieved</th>\n",
       "      <th>City_id</th>\n",
       "    </tr>\n",
       "  </thead>\n",
       "  <tbody>\n",
       "    <tr>\n",
       "      <th>0</th>\n",
       "      <td>1964021</td>\n",
       "      <td>04.12.2024</td>\n",
       "      <td>1</td>\n",
       "    </tr>\n",
       "    <tr>\n",
       "      <th>1</th>\n",
       "      <td>1510378</td>\n",
       "      <td>04.12.2024</td>\n",
       "      <td>2</td>\n",
       "    </tr>\n",
       "    <tr>\n",
       "      <th>2</th>\n",
       "      <td>873965</td>\n",
       "      <td>04.12.2024</td>\n",
       "      <td>3</td>\n",
       "    </tr>\n",
       "    <tr>\n",
       "      <th>3</th>\n",
       "      <td>755732</td>\n",
       "      <td>04.12.2024</td>\n",
       "      <td>4</td>\n",
       "    </tr>\n",
       "  </tbody>\n",
       "</table>\n",
       "</div>"
      ],
      "text/plain": [
       "   Population Year_Data_Retrieved  City_id\n",
       "0     1964021          04.12.2024        1\n",
       "1     1510378          04.12.2024        2\n",
       "2      873965          04.12.2024        3\n",
       "3      755732          04.12.2024        4"
      ]
     },
     "execution_count": 51,
     "metadata": {},
     "output_type": "execute_result"
    }
   ],
   "source": [
    "population_to_db[\"City_id\"] = cities_from_sql[\"City_id\"]\n",
    "population_to_db"
   ]
  },
  {
   "cell_type": "code",
   "execution_count": 52,
   "metadata": {},
   "outputs": [
    {
     "data": {
      "text/html": [
       "<div>\n",
       "<style scoped>\n",
       "    .dataframe tbody tr th:only-of-type {\n",
       "        vertical-align: middle;\n",
       "    }\n",
       "\n",
       "    .dataframe tbody tr th {\n",
       "        vertical-align: top;\n",
       "    }\n",
       "\n",
       "    .dataframe thead th {\n",
       "        text-align: right;\n",
       "    }\n",
       "</style>\n",
       "<table border=\"1\" class=\"dataframe\">\n",
       "  <thead>\n",
       "    <tr style=\"text-align: right;\">\n",
       "      <th></th>\n",
       "      <th>Population</th>\n",
       "      <th>Year_Data_Retrieved</th>\n",
       "      <th>City_id</th>\n",
       "    </tr>\n",
       "  </thead>\n",
       "  <tbody>\n",
       "    <tr>\n",
       "      <th>0</th>\n",
       "      <td>1964021</td>\n",
       "      <td>04.12.2024</td>\n",
       "      <td>1</td>\n",
       "    </tr>\n",
       "    <tr>\n",
       "      <th>1</th>\n",
       "      <td>1510378</td>\n",
       "      <td>04.12.2024</td>\n",
       "      <td>2</td>\n",
       "    </tr>\n",
       "    <tr>\n",
       "      <th>2</th>\n",
       "      <td>873965</td>\n",
       "      <td>04.12.2024</td>\n",
       "      <td>3</td>\n",
       "    </tr>\n",
       "    <tr>\n",
       "      <th>3</th>\n",
       "      <td>755732</td>\n",
       "      <td>04.12.2024</td>\n",
       "      <td>4</td>\n",
       "    </tr>\n",
       "  </tbody>\n",
       "</table>\n",
       "</div>"
      ],
      "text/plain": [
       "   Population Year_Data_Retrieved  City_id\n",
       "0     1964021          04.12.2024        1\n",
       "1     1510378          04.12.2024        2\n",
       "2      873965          04.12.2024        3\n",
       "3      755732          04.12.2024        4"
      ]
     },
     "execution_count": 52,
     "metadata": {},
     "output_type": "execute_result"
    }
   ],
   "source": [
    "# Getting the \"City_id\" to the population df\n",
    "\n",
    "population_to_db[\"City_id\"] = cities_from_sql[\"City_id\"]\n",
    "population_to_db"
   ]
  },
  {
   "cell_type": "code",
   "execution_count": 53,
   "metadata": {
    "colab": {
     "base_uri": "https://localhost:8080/",
     "height": 347
    },
    "id": "LMb5PTsK669q",
    "outputId": "9d4c4905-716b-4b71-8a0c-e436dab22702",
    "scrolled": true
   },
   "outputs": [
    {
     "data": {
      "text/plain": [
       "4"
      ]
     },
     "execution_count": 53,
     "metadata": {},
     "output_type": "execute_result"
    }
   ],
   "source": [
    "# Push the \"population_to_db\" to the empty \"population\" table in the MySQL data base\n",
    "population_to_db.to_sql('population',\n",
    "                  if_exists='append',\n",
    "                  con=connection_string,\n",
    "                  index=False)"
   ]
  },
  {
   "cell_type": "code",
   "execution_count": 54,
   "metadata": {},
   "outputs": [
    {
     "data": {
      "text/html": [
       "<div>\n",
       "<style scoped>\n",
       "    .dataframe tbody tr th:only-of-type {\n",
       "        vertical-align: middle;\n",
       "    }\n",
       "\n",
       "    .dataframe tbody tr th {\n",
       "        vertical-align: top;\n",
       "    }\n",
       "\n",
       "    .dataframe thead th {\n",
       "        text-align: right;\n",
       "    }\n",
       "</style>\n",
       "<table border=\"1\" class=\"dataframe\">\n",
       "  <thead>\n",
       "    <tr style=\"text-align: right;\">\n",
       "      <th></th>\n",
       "      <th>Population_id</th>\n",
       "      <th>Population</th>\n",
       "      <th>Year_Data_Retrieved</th>\n",
       "      <th>City_id</th>\n",
       "    </tr>\n",
       "  </thead>\n",
       "  <tbody>\n",
       "    <tr>\n",
       "      <th>0</th>\n",
       "      <td>1</td>\n",
       "      <td>1964021</td>\n",
       "      <td>02.12.2024</td>\n",
       "      <td>1</td>\n",
       "    </tr>\n",
       "    <tr>\n",
       "      <th>1</th>\n",
       "      <td>2</td>\n",
       "      <td>1510378</td>\n",
       "      <td>02.12.2024</td>\n",
       "      <td>2</td>\n",
       "    </tr>\n",
       "    <tr>\n",
       "      <th>2</th>\n",
       "      <td>3</td>\n",
       "      <td>873965</td>\n",
       "      <td>02.12.2024</td>\n",
       "      <td>3</td>\n",
       "    </tr>\n",
       "    <tr>\n",
       "      <th>3</th>\n",
       "      <td>4</td>\n",
       "      <td>755732</td>\n",
       "      <td>02.12.2024</td>\n",
       "      <td>4</td>\n",
       "    </tr>\n",
       "    <tr>\n",
       "      <th>4</th>\n",
       "      <td>5</td>\n",
       "      <td>1964021</td>\n",
       "      <td>04.12.2024</td>\n",
       "      <td>1</td>\n",
       "    </tr>\n",
       "    <tr>\n",
       "      <th>5</th>\n",
       "      <td>6</td>\n",
       "      <td>1510378</td>\n",
       "      <td>04.12.2024</td>\n",
       "      <td>2</td>\n",
       "    </tr>\n",
       "    <tr>\n",
       "      <th>6</th>\n",
       "      <td>7</td>\n",
       "      <td>873965</td>\n",
       "      <td>04.12.2024</td>\n",
       "      <td>3</td>\n",
       "    </tr>\n",
       "    <tr>\n",
       "      <th>7</th>\n",
       "      <td>8</td>\n",
       "      <td>755732</td>\n",
       "      <td>04.12.2024</td>\n",
       "      <td>4</td>\n",
       "    </tr>\n",
       "  </tbody>\n",
       "</table>\n",
       "</div>"
      ],
      "text/plain": [
       "   Population_id  Population Year_Data_Retrieved  City_id\n",
       "0              1     1964021          02.12.2024        1\n",
       "1              2     1510378          02.12.2024        2\n",
       "2              3      873965          02.12.2024        3\n",
       "3              4      755732          02.12.2024        4\n",
       "4              5     1964021          04.12.2024        1\n",
       "5              6     1510378          04.12.2024        2\n",
       "6              7      873965          04.12.2024        3\n",
       "7              8      755732          04.12.2024        4"
      ]
     },
     "execution_count": 54,
     "metadata": {},
     "output_type": "execute_result"
    }
   ],
   "source": [
    "population_from_sql = pd.read_sql(\"population\", con=connection_string)\n",
    "population_from_sql"
   ]
  },
  {
   "cell_type": "code",
   "execution_count": null,
   "metadata": {},
   "outputs": [],
   "source": []
  },
  {
   "cell_type": "code",
   "execution_count": null,
   "metadata": {},
   "outputs": [],
   "source": []
  },
  {
   "cell_type": "markdown",
   "metadata": {},
   "source": [
    "Bonus!"
   ]
  },
  {
   "cell_type": "markdown",
   "metadata": {},
   "source": [
    "LET'S TRY OUR CITY FUNCTION WITH OTHER CITIES!!"
   ]
  },
  {
   "cell_type": "code",
   "execution_count": 56,
   "metadata": {},
   "outputs": [],
   "source": [
    "# cities_dataframe; is our function for calling the cities, country, lat and lon."
   ]
  },
  {
   "cell_type": "code",
   "execution_count": 57,
   "metadata": {},
   "outputs": [
    {
     "data": {
      "text/html": [
       "<div>\n",
       "<style scoped>\n",
       "    .dataframe tbody tr th:only-of-type {\n",
       "        vertical-align: middle;\n",
       "    }\n",
       "\n",
       "    .dataframe tbody tr th {\n",
       "        vertical-align: top;\n",
       "    }\n",
       "\n",
       "    .dataframe thead th {\n",
       "        text-align: right;\n",
       "    }\n",
       "</style>\n",
       "<table border=\"1\" class=\"dataframe\">\n",
       "  <thead>\n",
       "    <tr style=\"text-align: right;\">\n",
       "      <th></th>\n",
       "      <th>City_name</th>\n",
       "      <th>Country</th>\n",
       "      <th>Latitude</th>\n",
       "      <th>Longitude</th>\n",
       "    </tr>\n",
       "  </thead>\n",
       "  <tbody>\n",
       "    <tr>\n",
       "      <th>0</th>\n",
       "      <td>Hamburg</td>\n",
       "      <td>Germany</td>\n",
       "      <td>53.550000</td>\n",
       "      <td>10.000000</td>\n",
       "    </tr>\n",
       "    <tr>\n",
       "      <th>1</th>\n",
       "      <td>Munich</td>\n",
       "      <td>Germany</td>\n",
       "      <td>48.137500</td>\n",
       "      <td>11.575000</td>\n",
       "    </tr>\n",
       "    <tr>\n",
       "      <th>2</th>\n",
       "      <td>San Francisco</td>\n",
       "      <td>United States</td>\n",
       "      <td>37.777500</td>\n",
       "      <td>-122.416389</td>\n",
       "    </tr>\n",
       "    <tr>\n",
       "      <th>3</th>\n",
       "      <td>La Paz</td>\n",
       "      <td>Bolivia</td>\n",
       "      <td>-16.495833</td>\n",
       "      <td>-68.133333</td>\n",
       "    </tr>\n",
       "  </tbody>\n",
       "</table>\n",
       "</div>"
      ],
      "text/plain": [
       "       City_name         Country   Latitude   Longitude\n",
       "0        Hamburg         Germany  53.550000   10.000000\n",
       "1         Munich         Germany  48.137500   11.575000\n",
       "2  San Francisco   United States  37.777500 -122.416389\n",
       "3         La Paz         Bolivia -16.495833  -68.133333"
      ]
     },
     "execution_count": 57,
     "metadata": {},
     "output_type": "execute_result"
    }
   ],
   "source": [
    "list_of_cities = [ \"Hamburg\", \"Munich\", \"San Francisco\", \"La Paz\"] #original cities\n",
    "\n",
    "cities_df = cities_dataframe(list_of_cities)\n",
    "cities_df"
   ]
  },
  {
   "cell_type": "code",
   "execution_count": 58,
   "metadata": {},
   "outputs": [
    {
     "data": {
      "text/html": [
       "<div>\n",
       "<style scoped>\n",
       "    .dataframe tbody tr th:only-of-type {\n",
       "        vertical-align: middle;\n",
       "    }\n",
       "\n",
       "    .dataframe tbody tr th {\n",
       "        vertical-align: top;\n",
       "    }\n",
       "\n",
       "    .dataframe thead th {\n",
       "        text-align: right;\n",
       "    }\n",
       "</style>\n",
       "<table border=\"1\" class=\"dataframe\">\n",
       "  <thead>\n",
       "    <tr style=\"text-align: right;\">\n",
       "      <th></th>\n",
       "      <th>City_name</th>\n",
       "      <th>Country</th>\n",
       "      <th>Latitude</th>\n",
       "      <th>Longitude</th>\n",
       "    </tr>\n",
       "  </thead>\n",
       "  <tbody>\n",
       "    <tr>\n",
       "      <th>0</th>\n",
       "      <td>Frankfurt</td>\n",
       "      <td>Germany</td>\n",
       "      <td>50.110556</td>\n",
       "      <td>8.682222</td>\n",
       "    </tr>\n",
       "    <tr>\n",
       "      <th>1</th>\n",
       "      <td>Berlin</td>\n",
       "      <td>Germany</td>\n",
       "      <td>52.520000</td>\n",
       "      <td>13.405000</td>\n",
       "    </tr>\n",
       "  </tbody>\n",
       "</table>\n",
       "</div>"
      ],
      "text/plain": [
       "   City_name  Country   Latitude  Longitude\n",
       "0  Frankfurt  Germany  50.110556   8.682222\n",
       "1     Berlin  Germany  52.520000  13.405000"
      ]
     },
     "execution_count": 58,
     "metadata": {},
     "output_type": "execute_result"
    }
   ],
   "source": [
    "list_of_cities = [ \"Frankfurt\", \"Berlin\"] #new cities\n",
    "\n",
    "cities_df = cities_dataframe(list_of_cities)\n",
    "cities_df"
   ]
  },
  {
   "cell_type": "markdown",
   "metadata": {},
   "source": [
    "Did we check or populations function? let's check it one more time ;) is the function that calls population, date and the city"
   ]
  },
  {
   "cell_type": "code",
   "execution_count": 60,
   "metadata": {},
   "outputs": [
    {
     "data": {
      "text/html": [
       "<div>\n",
       "<style scoped>\n",
       "    .dataframe tbody tr th:only-of-type {\n",
       "        vertical-align: middle;\n",
       "    }\n",
       "\n",
       "    .dataframe tbody tr th {\n",
       "        vertical-align: top;\n",
       "    }\n",
       "\n",
       "    .dataframe thead th {\n",
       "        text-align: right;\n",
       "    }\n",
       "</style>\n",
       "<table border=\"1\" class=\"dataframe\">\n",
       "  <thead>\n",
       "    <tr style=\"text-align: right;\">\n",
       "      <th></th>\n",
       "      <th>City_name</th>\n",
       "      <th>Population</th>\n",
       "      <th>Year_Data_Retrieved</th>\n",
       "    </tr>\n",
       "  </thead>\n",
       "  <tbody>\n",
       "    <tr>\n",
       "      <th>0</th>\n",
       "      <td>Hamburg</td>\n",
       "      <td>1964021</td>\n",
       "      <td>04.12.2024</td>\n",
       "    </tr>\n",
       "    <tr>\n",
       "      <th>1</th>\n",
       "      <td>Munich</td>\n",
       "      <td>1510378</td>\n",
       "      <td>04.12.2024</td>\n",
       "    </tr>\n",
       "    <tr>\n",
       "      <th>2</th>\n",
       "      <td>San Francisco</td>\n",
       "      <td>873965</td>\n",
       "      <td>04.12.2024</td>\n",
       "    </tr>\n",
       "    <tr>\n",
       "      <th>3</th>\n",
       "      <td>La Paz</td>\n",
       "      <td>755732</td>\n",
       "      <td>04.12.2024</td>\n",
       "    </tr>\n",
       "  </tbody>\n",
       "</table>\n",
       "</div>"
      ],
      "text/plain": [
       "       City_name  Population Year_Data_Retrieved\n",
       "0        Hamburg     1964021          04.12.2024\n",
       "1         Munich     1510378          04.12.2024\n",
       "2  San Francisco      873965          04.12.2024\n",
       "3         La Paz      755732          04.12.2024"
      ]
     },
     "execution_count": 60,
     "metadata": {},
     "output_type": "execute_result"
    }
   ],
   "source": [
    "cities = [\"Hamburg\", \"Munich\", \"San Francisco\", \"La Paz\"]\n",
    "\n",
    "population_df = populations_dataframe(cities)\n",
    "population_df"
   ]
  }
 ],
 "metadata": {
  "colab": {
   "provenance": []
  },
  "kernelspec": {
   "display_name": "Python 3 (ipykernel)",
   "language": "python",
   "name": "python3"
  },
  "language_info": {
   "codemirror_mode": {
    "name": "ipython",
    "version": 3
   },
   "file_extension": ".py",
   "mimetype": "text/x-python",
   "name": "python",
   "nbconvert_exporter": "python",
   "pygments_lexer": "ipython3",
   "version": "3.12.7"
  }
 },
 "nbformat": 4,
 "nbformat_minor": 4
}
